{
 "cells": [
  {
   "cell_type": "markdown",
   "metadata": {},
   "source": [
    "1. Python"
   ]
  },
  {
   "cell_type": "code",
   "execution_count": null,
   "metadata": {},
   "outputs": [],
   "source": [
    "import random\n",
    "\n",
    "def roll_the_dice(n_simulations = 1000):\n",
    "    '''Two unbiased, six sided, dice are thrown one time and the sum of the\n",
    "    faces is observed (so if you rolled a 3 and a 1, the sum is 4). A\n",
    "    simulation estimates probability that the total score is an even number\n",
    "    or a number greater than 7.  This is an estimated probability, based on\n",
    "    rolling the two dice n_simulations times.\n",
    "\n",
    "    Parameters\n",
    "    ----------\n",
    "    n_simulations: float\n",
    "        Number of rolls of the dice\n",
    "\n",
    "    Returns\n",
    "    -------\n",
    "    float\n",
    "    '''\n",
    "    pass_count = 0\n",
    "    for _ in range(n_simulations):\n",
    "        dice1 = random.randint(1,6)\n",
    "        dice2 = random.randint(1,6)\n",
    "        two_dice_sum = dice1+dice2\n",
    "        if (two_dice_sum % 2 == 0) | (two_dice_sum > 7):\n",
    "            pass_count +=1\n",
    "    sim_probability= pass_count/n_simulations        \n",
    "        \n",
    "    return sim_probability "
   ]
  },
  {
   "cell_type": "markdown",
   "metadata": {},
   "source": [
    "2. Python"
   ]
  },
  {
   "cell_type": "code",
   "execution_count": null,
   "metadata": {},
   "outputs": [],
   "source": [
    "\n",
    "\n",
    "def calculate_t_test(sample1, sample2, type_I_error_rate):\n",
    "    '''Evaluates whether the two samples come from a population with the same\n",
    "    population mean.  Returns a tuple containing the p-value for\n",
    "    the pair of samples and True or False depending if the p-value is\n",
    "    considered significant at the provided Type I Error Rate (i.e. false\n",
    "    positive rate, i.e. alpha).\n",
    "\n",
    "    Parameters\n",
    "    ----------\n",
    "    sample1, sample2: NumPy array, NumPy array\n",
    "    type_I_error_rate: float\n",
    "\n",
    "    Returns\n",
    "    -------\n",
    "    float, boolean\n",
    "    '''\n",
    "    '''\n",
    "    mean1, mean2 = mean(sample1), mean(sample2)\n",
    "\tse1, se2 = sem(sample1), sem(sample2)\n",
    "\tsed = sqrt(se1**2.0 + se2**2.0)\n",
    "\tt_stat = (mean1 - mean2) / sed\n",
    "\tdf = len(sample1) + len(sample2) - 2\n",
    "\tp = (1.0 - t.cdf(abs(t_stat), df)) * 2.0\n",
    "    if p > type_I_error_rate:\n",
    "        error = True\n",
    "    else:\n",
    "        error = False\n",
    "    return t_stat, error\n",
    "    '''\n",
    "    pass\n"
   ]
  },
  {
   "cell_type": "markdown",
   "metadata": {},
   "source": [
    "3. Pandas and Numpy"
   ]
  },
  {
   "cell_type": "markdown",
   "metadata": {},
   "source": [
    "For this Pandas challenge, you will be dealing with a DataFrame that contains information about universities in the US. The DataFrame has these columns: name, address, Website, Type, Size\n",
    "\n",
    "You can download a the data as universities.csv  if you would like to work with it locally. If you do work with universities.csv data make note that the tests for these challenges only use a small subset of the dataset when executing your function. So don't worry if the results expected by the tests are different than what you found using the whole dataset."
   ]
  },
  {
   "cell_type": "code",
   "execution_count": null,
   "metadata": {},
   "outputs": [],
   "source": [
    "import numpy as np\n",
    "\n",
    "def pandas_query(df):\n",
    "    '''Returns a DataFrame containing the average size of each university\n",
    "    type ordered by average size in ascending order.\n",
    "\n",
    "    Function assumes the input DataFrame contains these columns:\n",
    "        name, address, Website, Type, Size\n",
    "\n",
    "    Parameters\n",
    "    ----------\n",
    "    df: Pandas DataFrame\n",
    "\n",
    "    Returns\n",
    "    -------\n",
    "    Pandas DataFrame\n",
    "    '''\n",
    "    df = df.groupby('Type').agg({'Size': np.mean}).sort_values(['Size'])\n",
    "    \n",
    "    return df"
   ]
  },
  {
   "cell_type": "markdown",
   "metadata": {},
   "source": [
    "4. Pandas/ Numpy"
   ]
  },
  {
   "cell_type": "code",
   "execution_count": null,
   "metadata": {},
   "outputs": [],
   "source": [
    "def df_to_numpy(df, y_column):\n",
    "    '''Convert the column defined y_column into a NumPy array (y) and\n",
    "    convert the rest of df into a 2 dimensional NumPy array (X).\n",
    "    Returns (X, y).\n",
    "\n",
    "    Parameters\n",
    "    ----------\n",
    "    df: Pandas DataFrame\n",
    "    y_column: string\n",
    "\n",
    "    Returns\n",
    "    -------\n",
    "    NumPy array, NumPy array\n",
    "\n",
    "    Example\n",
    "    -------\n",
    "    >>> df = pd.DataFrame([[1,3,5],[2,4,6]], columns = ['a','b','c'])\n",
    "    >>> df_to_numpy(df, 'c')\n",
    "    np.array([[1, 3], [2, 4]]), np.array([5, 6])\n",
    "    '''\n",
    "    df_y = df[y_column]\n",
    "    df = df.drop(columns=y_column, axis=1)\n",
    "    X = df.to_numpy()\n",
    "    y = df_y.to_numpy()\n",
    "    return (X, y)"
   ]
  },
  {
   "cell_type": "markdown",
   "metadata": {},
   "source": [
    "5. Numpy"
   ]
  },
  {
   "cell_type": "code",
   "execution_count": 5,
   "metadata": {},
   "outputs": [],
   "source": [
    "import numpy as np\n",
    "def size_of_multiply(A, B):\n",
    "    '''If matrices A (dimensions m x n) and B (dimensions p x q) can be\n",
    "    multiplied (AB), returns the shape of the result of multiplying them.\n",
    "    Function DOES NOT perform the multiplication. If A and B cannot be\n",
    "    multiplied, returns None. (Use the shape function.)\n",
    "\n",
    "    Parameters\n",
    "    ----------\n",
    "    A, B: NumPy array, NumPy array\n",
    "\n",
    "    Returns\n",
    "    -------\n",
    "    (int, int) or None  \n",
    "    '''\n",
    "    m, n = np.shape(A)\n",
    "    p, q = np.shape(B)\n",
    "    if n == p:\n",
    "        new_shape = (m, q)\n",
    "    else:\n",
    "        new_shape = None\n",
    "    return new_shape"
   ]
  },
  {
   "cell_type": "markdown",
   "metadata": {},
   "source": [
    "6. SQL Challenge"
   ]
  },
  {
   "cell_type": "markdown",
   "metadata": {},
   "source": [
    "Given a table named universities (this is the same data as used in the Pandas challenge above) which contains university data with these columns: name, address, Website, Type, Size. Return a SQL query that gives each type and the average size of each university of that type in ascending order (same question as Pandas as well).\n",
    "\n",
    "If you would like to test your query locally, download either database file: universities.psql  for postgreSQL or universities.sqlite  for sqlite3.\n",
    "\n",
    "Instructions for ingesting database files are available here."
   ]
  },
  {
   "cell_type": "code",
   "execution_count": null,
   "metadata": {},
   "outputs": [],
   "source": [
    "SELECT Type, AVG(Size)\n",
    "FROM universities\n",
    "GROUP BY Type\n",
    "ORDER BY AVG(Size)"
   ]
  },
  {
   "cell_type": "markdown",
   "metadata": {},
   "source": [
    "7. Probability\n",
    "\n",
    "A coin is biased at 0.6 in favor of heads. What is the probability of flipping 8 or more heads in 10 flips of this coin?"
   ]
  },
  {
   "cell_type": "code",
   "execution_count": 11,
   "metadata": {},
   "outputs": [
    {
     "name": "stdout",
     "output_type": "stream",
     "text": [
      "0.5929204736\n"
     ]
    }
   ],
   "source": [
    "h = 0.6\n",
    "t = 0.4\n",
    "heads8 = (h**8) + (t**2)\n",
    "heads9 = (h**9) + (t)\n",
    "heads10 = (h**10)\n",
    "total_probability = heads8 + heads9 + heads10\n",
    "print(total_probability)"
   ]
  },
  {
   "cell_type": "markdown",
   "metadata": {},
   "source": [
    "8. Probability\n",
    "\n",
    "You've found a secret admirer note on your desk, and don't know who it might've come from but you know it must've been one of your colleagues: Jack, John, or Jimmy.\n",
    "\n",
    "As of yesterday, you thought it was twice as likely that Jimmy had a crush on you than John, and that John and Jack were equally likely to have a crush on you.\n",
    "However even if Jimmy liked you, you think there'd only be a 5% chance he'd leave you a note.\n",
    "On the other hand, if Jack liked you there'd be a whopping 50% chance he'd leave you a note.\n",
    "If John liked you, there'd be a 20% chance he'd leave you a note.\n",
    "What's the probability that the note came from John?"
   ]
  },
  {
   "cell_type": "markdown",
   "metadata": {},
   "source": [
    "Using conditional probability, we can construct a decision tree to predict that John left the note is 35% \n"
   ]
  },
  {
   "cell_type": "markdown",
   "metadata": {},
   "source": [
    "9. Statistics\n",
    "\n",
    "The total number of log-ins to a website for 20 different randomly selected users from 2018 are listed below (which you can treat as a sample from the population of all users of the website in 2018):\n",
    "\n",
    "[10, 25, 12, 35, 14, 18, 16, 15, 22, 10, 9, 11, 49, 20, 15, 9, 18, 19, 20, 20]\n",
    "\n",
    "a) What is the sample mean?\n",
    "\n",
    "b) What is the sample variance?"
   ]
  },
  {
   "cell_type": "code",
   "execution_count": 16,
   "metadata": {},
   "outputs": [
    {
     "name": "stdout",
     "output_type": "stream",
     "text": [
      "18.35\n",
      "91.50263157894737\n"
     ]
    }
   ],
   "source": [
    "lst = [10, 25, 12, 35, 14, 18, 16, 15, 22, 10, 9, 11, 49, 20, 15, 9, 18, 19, 20, 20]\n",
    "mean = np.mean(lst)\n",
    "variance = np.var(lst, ddof=1)\n",
    "print(mean)\n",
    "print(variance)"
   ]
  },
  {
   "cell_type": "markdown",
   "metadata": {},
   "source": [
    "10. Statistics\n",
    "\n",
    "The website owner from the previous question would like to know, with 95% confidence, an interval that contains the mean number of log-ins of all users of the website in 2019. Without actually calculating the confidence interval, name and briefly explain two techniques you'd use to calculate it."
   ]
  },
  {
   "cell_type": "code",
   "execution_count": null,
   "metadata": {},
   "outputs": [],
   "source": []
  }
 ],
 "metadata": {
  "kernelspec": {
   "display_name": "Python 3",
   "language": "python",
   "name": "python3"
  },
  "language_info": {
   "codemirror_mode": {
    "name": "ipython",
    "version": 3
   },
   "file_extension": ".py",
   "mimetype": "text/x-python",
   "name": "python",
   "nbconvert_exporter": "python",
   "pygments_lexer": "ipython3",
   "version": "3.6.9"
  }
 },
 "nbformat": 4,
 "nbformat_minor": 4
}
