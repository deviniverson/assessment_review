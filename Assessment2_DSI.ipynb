{
 "cells": [
  {
   "cell_type": "markdown",
   "metadata": {},
   "source": [
    "1. Pandas/ Numpy"
   ]
  },
  {
   "cell_type": "code",
   "execution_count": 1,
   "metadata": {},
   "outputs": [],
   "source": [
    "import numpy as np\n",
    "\n",
    "def add_column(arr, col):\n",
    "    '''Return a numpy array containing arr with col added as a final column.\n",
    "    You can assume that the number of rows in arr is the same as the length\n",
    "    of col.\n",
    "\n",
    "    Parameters\n",
    "    ----------\n",
    "    arr: NumPy Array (2-dimensional)\n",
    "    col: NumPy array\n",
    "\n",
    "    Returns\n",
    "    -------\n",
    "    NumPy Array (2-dimensional)\n",
    "\n",
    "    >>>add_column(np.array([[1, 2], [3, 4]]), np.array([5, 6)))\n",
    "    np.array([[1, 2, 5], [3, 4, 6]])\n",
    "    '''\n",
    "    result = np.column_stack((arr, col)) \n",
    "    \n",
    "    return result"
   ]
  },
  {
   "cell_type": "markdown",
   "metadata": {},
   "source": [
    "2. Pandas/ Numpy"
   ]
  },
  {
   "cell_type": "code",
   "execution_count": null,
   "metadata": {},
   "outputs": [],
   "source": [
    "def only_positive(arr):\n",
    "    '''Return a numpy array containing only the rows from arr where all\n",
    "    the values in that row are positive.\n",
    "    USE NUMPY METHODS, AVOID USING A FOR-LOOP.\n",
    "\n",
    "    Parameters\n",
    "    ----------\n",
    "    arr: NumPy Array (2-dimensional)\n",
    "\n",
    "    Returns\n",
    "    -------\n",
    "    NumPy Array (2-dimensional)\n",
    "\n",
    "    >>>np.array([[1, -1, 2],\n",
    "                    [3, 4, 2],\n",
    "                    [-8, 4, -4]])\n",
    "    np.array([[3, 4, 2]])\n",
    "    '''"
   ]
  },
  {
   "cell_type": "markdown",
   "metadata": {},
   "source": [
    "3. Python/ Pandas"
   ]
  },
  {
   "cell_type": "code",
   "execution_count": null,
   "metadata": {},
   "outputs": [],
   "source": [
    "import pandas as pd\n",
    "\n",
    "def make_series(start, length, index):\n",
    "    '''Create a pandas Series of length \"length\" with index \"index\"\n",
    "    and with elements that are sequential integers starting from \"start\".\n",
    "    You may assume the length of index will be \"length\".\n",
    "\n",
    "    Parameters\n",
    "    ----------\n",
    "    start, length: int, int\n",
    "    index: list\n",
    "        Index of length \"length\"\n",
    "\n",
    "    Returns\n",
    "    -------\n",
    "    Pandas Series\n",
    "\n",
    "    >>>print(make_series(5, 3, ['a', 'b', 'c']))\n",
    "    a    5\n",
    "    b    6\n",
    "    c    7\n",
    "    dtype: int64\n",
    "    '''\n",
    "    data = [i for i in range(start,(start + length)) ]\n",
    "    ser = pd.Series(data, index=index)\n",
    "    return ser"
   ]
  },
  {
   "cell_type": "markdown",
   "metadata": {},
   "source": [
    "SQL Challenges\n",
    "For the following SQL challenges you will use two tables in the database with these columns:\n",
    "\n",
    "rent: Neighborhood, City, State, med_2011, med_2014\n",
    "buy: Neighborhood, City, State, med_2011, med_2014\n",
    "The values in the med_2011/med_2014 columns are integers corresponding to the price on that date.\n",
    "\n",
    "If you would like to test your query locally, download either database file: housing.sql  for postgreSQL or housing.sqlite  for sqlite3.\n",
    "\n",
    "Instructions for ingesting database files are available here  ."
   ]
  },
  {
   "cell_type": "markdown",
   "metadata": {},
   "source": [
    "4. SQL"
   ]
  },
  {
   "cell_type": "code",
   "execution_count": null,
   "metadata": {},
   "outputs": [],
   "source": [
    "'''Return a SQL query that gives the number of neighborhoods in each city according to the rent table. \n",
    "Keep in mind that city names are not always unique unless you include the state as well, \n",
    "so your result should have these columns (though you do not need to name them): city, state, neighborhood_count\n",
    "'''\n",
    "SELECT city, state, COUNT(neighborhood)\n",
    "FROM rent\n",
    "GROUP BY rent.city, rent.state\n",
    "\n",
    "\n",
    "\n"
   ]
  },
  {
   "cell_type": "markdown",
   "metadata": {},
   "source": [
    "5. SQL #2"
   ]
  },
  {
   "cell_type": "code",
   "execution_count": null,
   "metadata": {},
   "outputs": [],
   "source": [
    "'''Return a SQL query that gives the 5 San Francisco neighborhoods with the highest rent increase between 2011 and 2014.\n",
    "\n",
    "NOTE: You will have to deal with missing values for the rent. The test looks for the neighborhoods with \n",
    "the highest rent increases, so neighborhoods where the amount of the increase is unknown should be excluded.\n",
    "'''\n",
    "SELECT rent.neighborhood\n",
    "FROM rent\n",
    "WHERE rent.city = 'San Francisco' and rent.med_2014 is not null\n",
    "ORDER BY med_2011, med_2014\n",
    "LIMIT 5\n",
    "\n"
   ]
  },
  {
   "cell_type": "markdown",
   "metadata": {},
   "source": [
    "6. SQL #3"
   ]
  },
  {
   "cell_type": "code",
   "execution_count": null,
   "metadata": {},
   "outputs": [],
   "source": [
    "'''Return a SQL query that gives the rent price and buying price for 2014 for all the neighborhoods in San Francisco. \n",
    "Your result should have these columns (though you do not need to name them): neighborhood, rent, buy\n",
    "'''\n",
    "SELECT neighborhood, rent.med_2014, buy.med_2014\n",
    "FROM rent\n",
    "FULL OUTER JOIN buy ON city, state\n",
    "WHERE neighborhood = 'San Francisco'\n",
    "\n"
   ]
  },
  {
   "cell_type": "markdown",
   "metadata": {},
   "source": [
    "7. Mongo"
   ]
  },
  {
   "cell_type": "markdown",
   "metadata": {},
   "source": [
    "a) In terms of organization of the data in the database, how are Mongo and SQL different? (2 pts)\n",
    "\n",
    "\n",
    "b) Give an example of data that is likely better handled by Mongo than SQL. (1 pt)\n",
    "\n"
   ]
  },
  {
   "cell_type": "markdown",
   "metadata": {},
   "source": [
    "8. Big Data"
   ]
  },
  {
   "cell_type": "markdown",
   "metadata": {},
   "source": [
    "What is Big Data?\n",
    "\n"
   ]
  },
  {
   "cell_type": "markdown",
   "metadata": {},
   "source": [
    "9. Big Data #2"
   ]
  },
  {
   "cell_type": "markdown",
   "metadata": {},
   "source": [
    "What is an RDD in Spark? How is a Spark Dataframe different?\n",
    "\n"
   ]
  },
  {
   "cell_type": "markdown",
   "metadata": {},
   "source": [
    "10. Big Data #3"
   ]
  },
  {
   "cell_type": "markdown",
   "metadata": {},
   "source": [
    "What is Lazy Evaluation in Spark and why does it occur?\n",
    "\n"
   ]
  },
  {
   "cell_type": "markdown",
   "metadata": {},
   "source": [
    "11. Run TIme"
   ]
  },
  {
   "cell_type": "markdown",
   "metadata": {},
   "source": [
    "Estimate the running time for the following functions (1pt each):\n",
    "\n",
    "a)\n",
    "\n",
    "def f(n):\n",
    "    i = 0\n",
    "    while i < n:\n",
    "        j = 0\n",
    "        while j < n:\n",
    "            print(str(i) + \", \" + str(j))\n",
    "            j += 1\n",
    "        i += 1\n",
    "b)\n",
    "\n",
    "def f(n):\n",
    "    i = 1\n",
    "    while i < n:\n",
    "        i *= 2\n",
    "        print(i)\n",
    "c)\n",
    "\n",
    "def do_something_else(n):\n",
    "    print(\"My name is Inigo Montoya\")"
   ]
  }
 ],
 "metadata": {
  "kernelspec": {
   "display_name": "Python 3",
   "language": "python",
   "name": "python3"
  },
  "language_info": {
   "codemirror_mode": {
    "name": "ipython",
    "version": 3
   },
   "file_extension": ".py",
   "mimetype": "text/x-python",
   "name": "python",
   "nbconvert_exporter": "python",
   "pygments_lexer": "ipython3",
   "version": "3.6.9"
  }
 },
 "nbformat": 4,
 "nbformat_minor": 4
}
