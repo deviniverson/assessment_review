{
 "cells": [
  {
   "cell_type": "markdown",
   "metadata": {},
   "source": [
    "1. Python"
   ]
  },
  {
   "cell_type": "code",
   "execution_count": 2,
   "metadata": {},
   "outputs": [],
   "source": [
    "def max_lists(list1, list2):\n",
    "    '''Compares the elements of list1, and list2 (assumed to be the same\n",
    "    length),and returns the maximum value between the two, for each element.\n",
    "\n",
    "    Parameters\n",
    "    ----------\n",
    "    list1, list2: list, list\n",
    "        (Of the same length)\n",
    "\n",
    "    Returns\n",
    "    -------\n",
    "    list\n",
    "    '''\n",
    "    lst = [max(val) for val in zip(list1,list2)]\n",
    "    return lst\n",
    "            "
   ]
  },
  {
   "cell_type": "markdown",
   "metadata": {},
   "source": [
    "2. Python"
   ]
  },
  {
   "cell_type": "code",
   "execution_count": 4,
   "metadata": {},
   "outputs": [],
   "source": [
    "import numpy as np\n",
    "def get_diagonal(mat):\n",
    "    '''Given a matrix encoded as a 2 dimensional python list (i.e. a list of\n",
    "    uniform length lists), returns a list containing all the values along the\n",
    "    diagonal starting at the index 0, 0. (Assumes that the matrix is nonempty.)\n",
    "\n",
    "    Parameters\n",
    "    ----------\n",
    "    mat: list of lists\n",
    "\n",
    "    Returns\n",
    "    -------\n",
    "    list\n",
    "\n",
    "    Example\n",
    "    -------\n",
    "    >>> mat = [[1, 2], [3, 4], [5, 6]]\n",
    "    >>> get_diagonal(mat)\n",
    "    [1, 4]\n",
    "    '''\n",
    "    return np.diag(mat)"
   ]
  },
  {
   "cell_type": "code",
   "execution_count": 5,
   "metadata": {},
   "outputs": [
    {
     "data": {
      "text/plain": [
       "array([1, 4])"
      ]
     },
     "execution_count": 5,
     "metadata": {},
     "output_type": "execute_result"
    }
   ],
   "source": [
    "mat = [[1, 2], [3, 4], [5, 6]]\n",
    "get_diagonal(mat)"
   ]
  },
  {
   "cell_type": "markdown",
   "metadata": {},
   "source": [
    "3. Python"
   ]
  },
  {
   "cell_type": "code",
   "execution_count": null,
   "metadata": {},
   "outputs": [],
   "source": [
    "def merge_dictionaries(d1, d2):\n",
    "    '''Returns a new dictionary containing all the keys from d1 and d2 with\n",
    "    their associated values. If a key is in both dictionaries, the new value is\n",
    "    the sum of the two values from d1 and d2.\n",
    "\n",
    "    Parameters\n",
    "    ----------\n",
    "    d1, d2: dictionary, dictionary\n",
    "\n",
    "    Returns\n",
    "    -------\n",
    "    dictionary\n",
    "    '''\n",
    "    for i, j in d1:\n",
    "        if i in d2:\n",
    "            other = d2.pop(i)\n",
    "            d1[i].value() = j + other\n",
    "    for k in d2:\n",
    "        if k not in d1:\n",
    "            other = d2.pop(k)\n",
    "            d1[k] = other\n",
    "    \n",
    "    return d1"
   ]
  },
  {
   "cell_type": "markdown",
   "metadata": {},
   "source": [
    "4. Python/ Linear Algebra"
   ]
  },
  {
   "cell_type": "code",
   "execution_count": null,
   "metadata": {},
   "outputs": [],
   "source": [
    "def matrix_multiplication(A, B):\n",
    "    '''Return the matrix which is the product of matrix A and matrix B\n",
    "    where A and B will be (a) integer valued (b) square matrices\n",
    "    (c) of size n-by-n (d) encoded as lists of lists,  e.g.\n",
    "    A = [[2, 3, 4], [6, 4, 2], [-1, 2, 0]] corresponds to the matrix\n",
    "    | 2  3  4 |\n",
    "    | 6  4  2 |\n",
    "    |-1  2  0 |\n",
    "\n",
    "    YOU MAY NOT USE NUMPY. Write your solution in straight python.\n",
    "\n",
    "    Parameters\n",
    "    ----------\n",
    "    a, b: list of lists of integers, list of lists integers\n",
    "        All inner/outer lists are of length n, so as to construct square\n",
    "        matrices.\n",
    "\n",
    "    Returns\n",
    "    -------\n",
    "    list of lists of integers\n",
    "        The product of a matrix multiplication operation.\n",
    "    '''\n",
    "    pass"
   ]
  },
  {
   "cell_type": "markdown",
   "metadata": {},
   "source": [
    "5. Pandas"
   ]
  },
  {
   "cell_type": "markdown",
   "metadata": {},
   "source": [
    "Pandas Challenges\n",
    "For each Pandas challenge, you will be dealing with a DataFrame that contains median rental prices in the US by neighborhood. The DataFrame has these columns: Neighborhood, City, State, med_2011, med_2014\n",
    "\n",
    "You can download a the data as rent.csv  if you would like to work with it locally. If you do work with rent.csv data make note that the tests for these challenges only use a small subset of the dataset when executing your function. So don't worry if the results expected by the tests are different than what you found using the whole dataset."
   ]
  },
  {
   "cell_type": "code",
   "execution_count": null,
   "metadata": {},
   "outputs": [],
   "source": [
    "def pandas_add_increase_column(df):\n",
    "    '''Adds a column to the DataFrame called 'Increase' which contains the\n",
    "    amount that the median rent increased by from 2011 to 2014.\n",
    "\n",
    "    Parameters\n",
    "    ----------\n",
    "    df: Pandas DataFrame\n",
    "\n",
    "    Returns\n",
    "    -------\n",
    "    None\n",
    "    '''\n",
    "    "
   ]
  },
  {
   "cell_type": "markdown",
   "metadata": {},
   "source": [
    "6. Pandas"
   ]
  },
  {
   "cell_type": "code",
   "execution_count": null,
   "metadata": {},
   "outputs": [],
   "source": [
    "def pandas_max_rent(df):\n",
    "    '''Returns a new pandas DataFrame that contains every city and the highest\n",
    "    median rent from that city for 2011 and 2014.\n",
    "\n",
    "    Note that city names are not unique so the state is tracked as well.\n",
    "    For example, Portland, ME and Portland, OR are recognized as different.\n",
    "\n",
    "    Parameters\n",
    "    ----------\n",
    "    df: Pandas DataFrame\n",
    "\n",
    "    Returns\n",
    "    -------\n",
    "    Pandas DataFrame:\n",
    "        Containing the columns: City, State, med_2011, med_2014\n",
    "    '''\n",
    "    "
   ]
  },
  {
   "cell_type": "markdown",
   "metadata": {},
   "source": [
    "7. Git"
   ]
  },
  {
   "cell_type": "markdown",
   "metadata": {},
   "source": [
    "a) What is Git, and why do software developers use it? (1 pt)\n",
    "\n",
    "b) What is the 'staging area', or 'index' in git? (1 pt)\n",
    "\n",
    "c) What does the command 'git commit' do?"
   ]
  },
  {
   "cell_type": "markdown",
   "metadata": {},
   "source": []
  },
  {
   "cell_type": "markdown",
   "metadata": {},
   "source": [
    "8. Python datatypes"
   ]
  },
  {
   "cell_type": "markdown",
   "metadata": {},
   "source": [
    "a) Please give an example of a mutable and immutable datatype. (2 pts)\n",
    "\n",
    "b) What will be displayed when b is printed in the code below? (1 pt)\n",
    "\n",
    "In[1] a = [1, 'a', [2, 3], 4.5]\n",
    "\n",
    "In[2] b = a\n",
    "\n",
    "In[3] a[0] = -0.1\n",
    "\n",
    "In[4] print(b)"
   ]
  },
  {
   "cell_type": "code",
   "execution_count": null,
   "metadata": {},
   "outputs": [],
   "source": []
  }
 ],
 "metadata": {
  "kernelspec": {
   "display_name": "Python 3",
   "language": "python",
   "name": "python3"
  },
  "language_info": {
   "codemirror_mode": {
    "name": "ipython",
    "version": 3
   },
   "file_extension": ".py",
   "mimetype": "text/x-python",
   "name": "python",
   "nbconvert_exporter": "python",
   "pygments_lexer": "ipython3",
   "version": "3.6.9"
  }
 },
 "nbformat": 4,
 "nbformat_minor": 4
}
