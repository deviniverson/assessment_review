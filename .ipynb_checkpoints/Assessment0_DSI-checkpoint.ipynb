{
 "cells": [
  {
   "cell_type": "markdown",
   "metadata": {},
   "source": [
    "1. Python"
   ]
  },
  {
   "cell_type": "code",
   "execution_count": 24,
   "metadata": {},
   "outputs": [],
   "source": [
    "def count_characters(string):\n",
    "    '''\n",
    "    Return a dictionary which contains\n",
    "    a count of the number of times each character appears in the string.\n",
    "    Characters which with a count of 0 should not be included in the\n",
    "    output dictionary.\n",
    "\n",
    "    Parameters\n",
    "    ----------\n",
    "    string: str\n",
    "\n",
    "    Returns\n",
    "    -------\n",
    "    dict\n",
    "        A dictionary with counts of each character in string\n",
    "    '''\n",
    "    dict_char = dict.fromkeys(string,0)\n",
    "    \n",
    "    for s in string:\n",
    "        dict_char[s] +=1\n",
    "        \n",
    "    return dict_char\n",
    "    "
   ]
  },
  {
   "cell_type": "code",
   "execution_count": 25,
   "metadata": {},
   "outputs": [
    {
     "data": {
      "text/plain": [
       "{'k': 5,\n",
       " 'j': 4,\n",
       " ' ': 7,\n",
       " 'g': 5,\n",
       " 'l': 3,\n",
       " '4': 2,\n",
       " 'o': 5,\n",
       " 'n': 4,\n",
       " 'i': 4,\n",
       " 'b': 2,\n",
       " 's': 3,\n",
       " 'f': 5,\n",
       " 'd': 1,\n",
       " 'e': 2,\n",
       " 'u': 1,\n",
       " 'p': 4,\n",
       " 'q': 1,\n",
       " 'c': 1,\n",
       " 'm': 1,\n",
       " 'w': 1}"
      ]
     },
     "execution_count": 25,
     "metadata": {},
     "output_type": "execute_result"
    }
   ],
   "source": [
    "string = 'kj  glkk4j 4ognongoi  bgoisf jijfkflskdff eiupqpongblsnpcmepw'\n",
    "count_characters(string)"
   ]
  },
  {
   "cell_type": "markdown",
   "metadata": {},
   "source": [
    "2. Python"
   ]
  },
  {
   "cell_type": "code",
   "execution_count": 21,
   "metadata": {},
   "outputs": [],
   "source": [
    "def invert_dictionary(d):\n",
    "    '''\n",
    "    Given a dictionary d, return a new dictionary with d's values\n",
    "    as keys and the value for a given key being\n",
    "    the set of d's keys which shared the same value.\n",
    "\n",
    "    Parameters\n",
    "    ----------\n",
    "    d: dict\n",
    "\n",
    "    Returns\n",
    "    -------\n",
    "    dict\n",
    "        A dictionary of sets of input keys indexing the same input values\n",
    "        indexed by the input values.\n",
    "\n",
    "\n",
    "    >>>invert_dictionary({'a': 2, 'b': 4, 'c': 2})\n",
    "    {2: {'a', 'c'}, 4: {'b'}}\n",
    "    '''\n",
    "    new_dict = {}\n",
    "    \n",
    "    for k, v in d.items():\n",
    "        new_dict[v] = new_dict.get(v, [])\n",
    "        new_dict[v].append(k)\n",
    "            \n",
    "    return new_dict"
   ]
  },
  {
   "cell_type": "code",
   "execution_count": 22,
   "metadata": {},
   "outputs": [
    {
     "data": {
      "text/plain": [
       "{2: ['a', 'c'], 4: ['b']}"
      ]
     },
     "execution_count": 22,
     "metadata": {},
     "output_type": "execute_result"
    }
   ],
   "source": [
    "d = {'a': 2, 'b': 4, 'c': 2}\n",
    "invert_dictionary(d)"
   ]
  },
  {
   "cell_type": "markdown",
   "metadata": {},
   "source": [
    "3. Probability"
   ]
  },
  {
   "cell_type": "code",
   "execution_count": 23,
   "metadata": {},
   "outputs": [],
   "source": [
    "def cookie_jar(a, b):\n",
    "    '''\n",
    "    There are two jars of cookies.\n",
    "    Each has chocolate and peanut butter cookies.\n",
    "    Input 'a' is the fraction of cookies in Jar A which are chocolate.\n",
    "    Input 'b' is the fraction of cookies in Jar B which are chocolate.\n",
    "    A jar is chosen at random and a cookie is drawn.\n",
    "    The cookie is chocolate.\n",
    "    Return the probability that the cookie came from Jar A.\n",
    "\n",
    "    Parameters\n",
    "    ----------\n",
    "    a: float\n",
    "        Probability of drawing a chocolate cooking from Jar A\n",
    "    b: float\n",
    "        Probability of drawing a chocolate cooking from Jar B\n",
    "\n",
    "    Returns\n",
    "    -------\n",
    "    float\n",
    "        Conditional probability that cookie was drawn from Jar A given\n",
    "        that a chocolate cookie was drawn.    \n",
    "    '''\n",
    "    return (.5 * a) / (1-b)"
   ]
  },
  {
   "cell_type": "markdown",
   "metadata": {},
   "source": [
    "4. Numpy"
   ]
  },
  {
   "cell_type": "code",
   "execution_count": 2,
   "metadata": {},
   "outputs": [],
   "source": [
    "import numpy as np\n",
    "\n",
    "def array_work(rows, cols, scalar, matrixA):\n",
    "    '''\n",
    "    Create matrix of size (rows, cols) with elements initialized to the\n",
    "    scalar value. Right multiply that matrix with the passed matrixA\n",
    "    (i.e. AB, not BA).  Return the result of the multiplication.  You\n",
    "    needn't check for matrix compatibility, but you can accomplish this in\n",
    "    a single line.\n",
    "\n",
    "    Parameters\n",
    "    ----------\n",
    "    rows, cols: int, int\n",
    "        Size of matrix to be created\n",
    "    scalar: int\n",
    "        Value of each element of new matrix\n",
    "    matrixA:\n",
    "\n",
    "    Returns\n",
    "    -------\n",
    "    NumPy array\n",
    "        Result of matrix product of row-by-col matrix of \"scalar\"'s times\n",
    "        matrixA.\n",
    "\n",
    "    E.g., array_work(2, 3, 5, [[3, 4], [5, 6], [7, 8]])\n",
    "           [[3, 4],      [[5, 5, 5],\n",
    "            [5, 6],   *   [5, 5, 5]]\n",
    "            [7, 8]]\n",
    "    '''\n",
    "    scalar_matrix = np.full((rows,cols), scalar)\n",
    "    result = matrixA.dot(scalar_matrix)\n",
    "    \n",
    "    return result"
   ]
  },
  {
   "cell_type": "markdown",
   "metadata": {},
   "source": [
    "5. Pandas"
   ]
  },
  {
   "cell_type": "code",
   "execution_count": null,
   "metadata": {},
   "outputs": [],
   "source": [
    "def data_frame_work(df, colA, colB, colC):\n",
    "    '''\n",
    "    Insert a column (colC) into the dataframe that is the sum of\n",
    "    colA and colB. Assume that df contains columns colA and colB and\n",
    "    that these are numeric.\n",
    "\n",
    "    Parameters\n",
    "    ----------\n",
    "    df: Pandas DataFrame\n",
    "    colA, colB, colC: str, str, str\n",
    "    '''\n",
    "    df['colC'] = df[colA] + df[colB]"
   ]
  },
  {
   "cell_type": "markdown",
   "metadata": {},
   "source": [
    "6. Math Challenge"
   ]
  },
  {
   "cell_type": "markdown",
   "metadata": {},
   "source": [
    "Given the following matrix and vector:\n",
    "X=[2143]\n",
    "y=[13]\n",
    "What is the product Xy?\n",
    "\n",
    "Note: hitting enter will submit the challenge, indicate the separate lines of your matrix by typing \\n where the break would be."
   ]
  },
  {
   "cell_type": "code",
   "execution_count": 3,
   "metadata": {},
   "outputs": [
    {
     "name": "stdout",
     "output_type": "stream",
     "text": [
      "[[ 5]\n",
      " [13]]\n"
     ]
    }
   ],
   "source": [
    "import numpy as np\n",
    "x = np.array([[2, 1], [4, 3]])\n",
    "y = np.array([[1], [3]])\n",
    "result = x.dot(y)\n",
    "print(result)"
   ]
  },
  {
   "cell_type": "markdown",
   "metadata": {},
   "source": [
    "7. Prob/Stats"
   ]
  },
  {
   "cell_type": "markdown",
   "metadata": {},
   "source": [
    "Consider a sample of data S obtained \n",
    "by flipping a coin x, where 1 denotes the coin \n",
    "turned up heads, and 0 tails.\n",
    "\n",
    "S={1,1,0,1,0}\n",
    "What is the sample's mean?\n",
    "\n"
   ]
  },
  {
   "cell_type": "code",
   "execution_count": null,
   "metadata": {},
   "outputs": [],
   "source": [
    "import numpy as np\n",
    "s = [1, 1, 0, 1, 0]\n",
    "sample_mean = num_1s/total_num_samples\n",
    "sample_mean = 3/5 or 0.6"
   ]
  },
  {
   "cell_type": "markdown",
   "metadata": {},
   "source": [
    "8. Prob/Stats"
   ]
  },
  {
   "cell_type": "markdown",
   "metadata": {},
   "source": [
    "Continuing with the data from the previous challenge, what is the probability of observing \n",
    "these data (3 heads) assuming that a coin with an equal probability of heads and tails was used?\n"
   ]
  },
  {
   "cell_type": "code",
   "execution_count": null,
   "metadata": {},
   "outputs": [],
   "source": [
    "5/16 or 0.3125"
   ]
  },
  {
   "cell_type": "markdown",
   "metadata": {},
   "source": [
    "9. Prob/Stats"
   ]
  },
  {
   "cell_type": "markdown",
   "metadata": {},
   "source": [
    "A probability distribution P is dependent on two categorical values x and y. \n",
    "x can take on values T and F, while y can take on values of a, b, and c. \n",
    "The following joint distribution table describes the joint probability P(x,y):\n",
    "\n",
    "    a\t   b    \tc\n",
    "T\t0.2\t  0.1\t   0.2\n",
    "F\t0.05\t0.15\t0.3\n",
    "What is P(x=T | y=b)?\n"
   ]
  },
  {
   "cell_type": "markdown",
   "metadata": {},
   "source": [
    "P(x=T(0.5)|y=b(0.1)) = 0.5/0.1 = 5"
   ]
  }
 ],
 "metadata": {
  "kernelspec": {
   "display_name": "Python 3",
   "language": "python",
   "name": "python3"
  },
  "language_info": {
   "codemirror_mode": {
    "name": "ipython",
    "version": 3
   },
   "file_extension": ".py",
   "mimetype": "text/x-python",
   "name": "python",
   "nbconvert_exporter": "python",
   "pygments_lexer": "ipython3",
   "version": "3.6.9"
  }
 },
 "nbformat": 4,
 "nbformat_minor": 4
}
